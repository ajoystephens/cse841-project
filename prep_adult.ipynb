{
 "cells": [
  {
   "cell_type": "code",
   "execution_count": 1,
   "id": "18bb74a5-dc7f-42e5-b661-6f71f67b743b",
   "metadata": {},
   "outputs": [
    {
     "name": "stderr",
     "output_type": "stream",
     "text": [
      "WARNING:root:No module named 'tempeh': LawSchoolGPADataset will be unavailable. To install, run:\n",
      "pip install 'aif360[LawSchoolGPA]'\n"
     ]
    }
   ],
   "source": [
    "# LIBRAIRES\n",
    "import numpy as np\n",
    "import pandas as pd\n",
    "import random\n",
    "import pickle\n",
    "\n",
    "import string\n",
    "\n",
    "from aif360.datasets import AdultDataset\n",
    "\n",
    "from matplotlib import pyplot as plt "
   ]
  },
  {
   "cell_type": "code",
   "execution_count": 2,
   "id": "f23e90e7-4b83-47ef-9eb3-43e1d2e91b7a",
   "metadata": {},
   "outputs": [],
   "source": [
    "# METHODS\n",
    "def swap_vals(dirty_df, n):\n",
    "    mods = pd.DataFrame()\n",
    "    for i in range(n):\n",
    "        col_i = random.randint(0,dirty_df.shape[1]-1)\n",
    "        col = dirty_df.columns[col_i]\n",
    "        row_1 = random.randint(0,dirty_df.shape[0]-1)\n",
    "        row_2 = random.randint(0,dirty_df.shape[0]-1)\n",
    "        # val = dirty_df.iloc[row][col]\n",
    "        val_1 = dirty_df.iat[row_1,col_i]\n",
    "        val_2 = dirty_df.iat[row_2,col_i]\n",
    "    \n",
    "        dirty_df.iat[row_1,col_i] = val_2\n",
    "        dirty_df.iat[row_2,col_i] = val_1\n",
    "    \n",
    "        mod = {'col': col, 'row 1': row_1, 'val 1': val_1,'row 2': row_2,'val 2':val_2}\n",
    "        # mods = mods.append(mod, ignore_index = True)\n",
    "        mods = pd.concat([mods, pd.DataFrame([mod])], ignore_index=True)\n",
    "    return(dirty_df,mods)\n",
    "\n",
    "def rand_mod(dirty_df, n):\n",
    "    mods = pd.DataFrame()\n",
    "    for i in range(n):\n",
    "        col_i = random.randint(0,dirty_df.shape[1]-1)\n",
    "        col = dirty_df.columns[col_i]\n",
    "        row_1 = random.randint(0,dirty_df.shape[0]-1)\n",
    "        row_2 = random.randint(0,dirty_df.shape[0]-1)\n",
    "        # val = dirty_df.iloc[row][col]\n",
    "        val_1 = dirty_df.iat[row_1,col_i]\n",
    "        val_2 = dirty_df.iat[row_2,col_i]\n",
    "    \n",
    "        dirty_df.iat[row_1,col_i] = val_2\n",
    "        dirty_df.iat[row_2,col_i] = val_1\n",
    "    \n",
    "        mod = {'col': col, 'row 1': row_1, 'val 1': val_1,'row 2': row_2,'val 2':val_2}\n",
    "        # mods = mods.append(mod, ignore_index = True)\n",
    "        mods = pd.concat([mods, pd.DataFrame([mod])], ignore_index=True)\n",
    "\n",
    "    return(dirty_df,mods)"
   ]
  },
  {
   "cell_type": "markdown",
   "id": "fa59b0ff-1970-47a4-a20b-0ad2a17f630b",
   "metadata": {},
   "source": [
    "### Note\n",
    "\n",
    "downloaded needed files:\n",
    "'https://archive.ics.uci.edu/ml/machine-learning-databases/adult/adult.data'\n",
    "'https://archive.ics.uci.edu/ml/machine-learning-databases/adult/adult.test'\n",
    "'https://archive.ics.uci.edu/ml/machine-learning-databases/adult/adult.names'"
   ]
  },
  {
   "cell_type": "code",
   "execution_count": 3,
   "id": "b81fd99c-64c5-49f2-a72d-31c323e1e8d4",
   "metadata": {},
   "outputs": [
    {
     "name": "stderr",
     "output_type": "stream",
     "text": [
      "WARNING:root:Missing Data: 3620 rows removed from AdultDataset.\n"
     ]
    },
    {
     "name": "stdout",
     "output_type": "stream",
     "text": [
      "Dataset Retrieved\n",
      " Shape of X (df): (45222, 102)\n",
      " Shape of Y: (45222,)\n",
      " Shape of P: (45222,)\n",
      " Shape of P_val: (45222,)\n"
     ]
    }
   ],
   "source": [
    "# GET DATA\n",
    "label_map = {1.0: '>50K', 0.0: '<=50K'}\n",
    "protected_attribute_maps = [{1.0: 'Male', 0.0: 'Female'}]\n",
    "\n",
    "data = AdultDataset(\n",
    "    protected_attribute_names=['sex'],\n",
    "    categorical_features=['workclass', 'education', 'marital-status',\n",
    "                          'occupation', 'relationship', 'native-country', 'race'],\n",
    "    privileged_classes=[['Male']],\n",
    "    metadata={'label_map': label_map,'protected_attribute_maps': protected_attribute_maps})\n",
    "\n",
    "df = pd.DataFrame(data.features, columns=data.feature_names)\n",
    "Y = data.labels.ravel()\n",
    "P = data.protected_attributes.ravel()\n",
    "P_val = np.vectorize(protected_attribute_maps[0].get)(P)\n",
    "\n",
    "print('Dataset Retrieved')\n",
    "print(\" Shape of X (df): {}\".format(df.shape))\n",
    "print(\" Shape of Y: {}\".format(Y.shape))\n",
    "print(\" Shape of P: {}\".format(P.shape))\n",
    "print(\" Shape of P_val: {}\".format(P_val.shape))"
   ]
  },
  {
   "cell_type": "code",
   "execution_count": 4,
   "id": "c46d0d03-576e-4401-b89c-21e5b388838a",
   "metadata": {},
   "outputs": [
    {
     "name": "stdout",
     "output_type": "stream",
     "text": [
      "Dataset Downsized\n",
      " Shape of X (df): (20000, 102)\n",
      " Shape of Y: (20000,)\n",
      " Shape of P: (20000,)\n",
      " Shape of P_val: (20000,)\n"
     ]
    }
   ],
   "source": [
    "# could not process full dataset, taking a smaller sample\n",
    "n_sample = 20000\n",
    "n = Y.shape[0]\n",
    "ind = np.arange(n)\n",
    "np.random.shuffle(ind)\n",
    "i_sample = ind[:n_sample]\n",
    "\n",
    "df = df.iloc[i_sample]\n",
    "Y = Y[i_sample]\n",
    "P = P[i_sample]\n",
    "P_val = P_val[i_sample]\n",
    "\n",
    "print('Dataset Downsized')\n",
    "print(\" Shape of X (df): {}\".format(df.shape))\n",
    "print(\" Shape of Y: {}\".format(Y.shape))\n",
    "print(\" Shape of P: {}\".format(P.shape))\n",
    "print(\" Shape of P_val: {}\".format(P_val.shape))"
   ]
  },
  {
   "cell_type": "code",
   "execution_count": 5,
   "id": "06274f2f-170e-4731-bd5b-919a85ff2ffb",
   "metadata": {},
   "outputs": [
    {
     "name": "stdout",
     "output_type": "stream",
     "text": [
      " Shape of Y: (20000, 2)\n"
     ]
    }
   ],
   "source": [
    "# convert Y to multiclass \n",
    "y_multi = np.ones((Y.shape[0],2),dtype=bool)\n",
    "y_multi[:,1]=Y\n",
    "y_multi[:,0]=np.abs(Y-1)\n",
    "Y = y_multi\n",
    "print(\" Shape of Y: {}\".format(Y.shape))"
   ]
  },
  {
   "cell_type": "code",
   "execution_count": 6,
   "id": "1e905154-ca63-43bb-87c3-c1c06cc9e16d",
   "metadata": {},
   "outputs": [
    {
     "name": "stdout",
     "output_type": "stream",
     "text": [
      "cell cnt: 2040000\n",
      "swap cell cnt: 102000 x2\n",
      "rand mod cell cnt: 204000\n"
     ]
    }
   ],
   "source": [
    "df_dirty = df.copy()\n",
    "cells = df_dirty.shape[0] * df_dirty.shape[1]\n",
    "print(f'cell cnt: {cells}')\n",
    "\n",
    "swap_cnt = int(0.05*cells)\n",
    "print(f'swap cell cnt: {swap_cnt} x2')\n",
    "df_dirty,swap_mods=swap_vals(df_dirty, swap_cnt)\n",
    "\n",
    "mod_cnt = int(0.1*cells)\n",
    "print(f'rand mod cell cnt: {mod_cnt}')\n",
    "df_dirty,rand_mods=rand_mod(df_dirty, mod_cnt)\n",
    "# mods"
   ]
  },
  {
   "cell_type": "code",
   "execution_count": 7,
   "id": "589ef2bd-f04f-4584-934b-c2bacc41fb5d",
   "metadata": {},
   "outputs": [
    {
     "name": "stdout",
     "output_type": "stream",
     "text": [
      "Y    1.0\n",
      "Name: Y, dtype: float64\n"
     ]
    }
   ],
   "source": [
    "# checking for columns that are weirdly highly correlated\n",
    "tmp = df.copy()\n",
    "tmp['Y'] = Y[:,1]\n",
    "corr = tmp.astype(float).corr()\n",
    "print(corr[corr['Y'].abs() > 0.55]['Y'])\n",
    "\n",
    "# weird =['r_offense_date', 'r_charge_degree_O']\n",
    "\n",
    "# df = df.drop(columns=['is_recid']+weird) # remove label\n",
    "# df_dirty = df_dirty.drop(columns=['is_recid']+weird) # remove label"
   ]
  },
  {
   "cell_type": "code",
   "execution_count": 8,
   "id": "b5bb22e4-3820-4407-be44-eda56efe799f",
   "metadata": {},
   "outputs": [],
   "source": [
    "data_dict = {\n",
    "    'Y':Y,\n",
    "    'P_val':P_val,\n",
    "    'P':P,\n",
    "    'priv_group': 1, # priv group is male\n",
    "    'pos_label': 1 # best label is that they are predicted to have high income (Y = 1, >50K)\n",
    "}\n",
    "with open('datasets/adult/data.p', \"wb\") as fileObj:\n",
    "    pickle.dump(data_dict, fileObj)\n",
    "\n",
    "\n",
    "# np.savetxt(\"datasets/compas/clean.csv\", df.to_numpy(), delimiter=\",\")\n",
    "# np.savetxt(\"datasets/compas/dirty.csv\", df_dirty.to_numpy(), delimiter=\",\")\n",
    "\n",
    "df = df.astype(float)\n",
    "df_dirty = df_dirty.astype(float)\n",
    "\n",
    "df.to_csv(\"datasets/adult/clean.csv\", sep=\",\", header=True, index=False)\n",
    "df_dirty.to_csv(\"datasets/adult/dirty.csv\", sep=\",\", header=True, index=False)"
   ]
  },
  {
   "cell_type": "code",
   "execution_count": 9,
   "id": "1459a0f0-3694-484b-94bb-d5a7fbf74d62",
   "metadata": {},
   "outputs": [
    {
     "data": {
      "text/plain": [
       "(20000, 102)"
      ]
     },
     "execution_count": 9,
     "metadata": {},
     "output_type": "execute_result"
    }
   ],
   "source": [
    "df_dirty.shape\n"
   ]
  },
  {
   "cell_type": "code",
   "execution_count": 10,
   "id": "52249622-4a73-49cf-a0f2-901756b5cc6d",
   "metadata": {},
   "outputs": [
    {
     "name": "stdout",
     "output_type": "stream",
     "text": [
      "Total Data Points: 20000\n",
      "By Label: [15014  4986]\n",
      "By Prot Group: {0.0: 6546, 1.0: 13454}\n",
      "By Prot Value: {'Female': 6546, 'Male': 13454}\n"
     ]
    }
   ],
   "source": [
    "print(f'Total Data Points: {Y.shape[0]}')\n",
    "print(f'By Label: {Y.sum(axis=0)}')\n",
    "tmp_unique,tmp_cnts = np.unique(P, return_counts=True)\n",
    "print(f'By Prot Group: {dict(zip(tmp_unique,tmp_cnts))}')\n",
    "tmp_unique,tmp_cnts = np.unique(P_val, return_counts=True)\n",
    "print(f'By Prot Value: {dict(zip(tmp_unique,tmp_cnts))}')\n"
   ]
  },
  {
   "cell_type": "code",
   "execution_count": null,
   "id": "d7d8201e-2635-4ebb-8dcc-d77dda368893",
   "metadata": {},
   "outputs": [],
   "source": []
  }
 ],
 "metadata": {
  "kernelspec": {
   "display_name": "venv",
   "language": "python",
   "name": "venv"
  },
  "language_info": {
   "codemirror_mode": {
    "name": "ipython",
    "version": 3
   },
   "file_extension": ".py",
   "mimetype": "text/x-python",
   "name": "python",
   "nbconvert_exporter": "python",
   "pygments_lexer": "ipython3",
   "version": "3.11.3"
  }
 },
 "nbformat": 4,
 "nbformat_minor": 5
}
