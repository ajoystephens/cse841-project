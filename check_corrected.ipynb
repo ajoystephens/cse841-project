{
 "cells": [
  {
   "cell_type": "code",
   "execution_count": 1,
   "id": "4e539e27-6d35-4d1d-813c-d3ec0ebb0183",
   "metadata": {},
   "outputs": [],
   "source": [
    "import numpy as np\n",
    "import pandas as pd\n",
    "import pickle\n",
    "import math\n",
    "import matplotlib.pyplot as plt\n",
    "\n",
    "from sklearn.metrics import mean_squared_error"
   ]
  },
  {
   "cell_type": "code",
   "execution_count": 2,
   "id": "ef96ffe9-fa12-4f13-a387-46061f778526",
   "metadata": {},
   "outputs": [],
   "source": [
    "DATASET = 'german'\n",
    "nice_dataset = 'German'"
   ]
  },
  {
   "cell_type": "code",
   "execution_count": 3,
   "id": "111a345e-4ac9-4ba7-b7e5-ed06093319fe",
   "metadata": {},
   "outputs": [
    {
     "name": "stdout",
     "output_type": "stream",
     "text": [
      "dict_keys(['actual_errors', 'corrected_errors', 'detected_errors'])\n"
     ]
    }
   ],
   "source": [
    "# load errors \n",
    "path = f'datasets/{DATASET}/errors.p'\n",
    "objects = []\n",
    "with open(path, 'rb') as handle:\n",
    "    file_dict = pickle.load(handle)\n",
    "print(file_dict.keys())\n",
    "\n",
    "corrected_dict = file_dict['corrected_errors']\n",
    "error_dict = file_dict['actual_errors']\n",
    "detected_dict = file_dict['detected_errors']"
   ]
  },
  {
   "cell_type": "code",
   "execution_count": 4,
   "id": "83c96a12-0e96-47d7-b76d-34afebcdfd93",
   "metadata": {},
   "outputs": [
    {
     "name": "stdout",
     "output_type": "stream",
     "text": [
      "dict_keys(['Y', 'P_val', 'P', 'priv_group', 'pos_label'])\n"
     ]
    }
   ],
   "source": [
    "# load dataset info \n",
    "path = f'datasets/{DATASET}/data.p'\n",
    "objects = []\n",
    "with open(path, 'rb') as handle:\n",
    "    data_dict = pickle.load(handle)\n",
    "print(data_dict.keys())\n",
    "\n",
    "Y = data_dict['Y']\n",
    "P = data_dict['P'].astype(int)\n",
    "P_val = data_dict['P_val']\n",
    "priv_group = data_dict['priv_group']\n",
    "pos_label = data_dict['pos_label']"
   ]
  },
  {
   "cell_type": "code",
   "execution_count": 5,
   "id": "0bd24ce7-cd3e-4b67-87bf-b05acac7cd65",
   "metadata": {},
   "outputs": [
    {
     "name": "stdout",
     "output_type": "stream",
     "text": [
      "row count: 1000\n",
      "column count: 58\n",
      "cell count: 58000\n"
     ]
    }
   ],
   "source": [
    "path = f'datasets/{DATASET}/clean.csv'\n",
    "clean_df = pd.read_csv(path, sep=\",\", header=0, dtype=float)\n",
    "\n",
    "path = f'datasets/{DATASET}/dirty.csv'\n",
    "dirty_df = pd.read_csv(path, sep=\",\", header=0, dtype=float)\n",
    "\n",
    "col_cnt = clean_df.shape[1]\n",
    "N = clean_df.shape[0]\n",
    "print(f'row count: {N}')\n",
    "print(f'column count: {col_cnt}')\n",
    "print(f'cell count: {col_cnt*N}')"
   ]
  },
  {
   "cell_type": "markdown",
   "id": "37fe41f9-2b42-484e-a506-5b28a3ee778a",
   "metadata": {},
   "source": [
    "## Check Detected Error Counts"
   ]
  },
  {
   "cell_type": "code",
   "execution_count": 6,
   "id": "5a827c30-dd72-4cab-9cb0-9fb00778c90f",
   "metadata": {},
   "outputs": [
    {
     "name": "stdout",
     "output_type": "stream",
     "text": [
      "total detections: 2217.0\n"
     ]
    }
   ],
   "source": [
    "detected_cnt = np.zeros(P.shape)\n",
    "for cell in detected_dict:\n",
    "    val = detected_dict[cell]\n",
    "    if val == '': val='nan'\n",
    "    # dirty_df.iloc[cell] = float(val)\n",
    "    detected_cnt[cell[0]] += 1\n",
    "\n",
    "    # print(cell[0])\n",
    "total = detected_cnt.sum()\n",
    "print(f'total detections: {total}')"
   ]
  },
  {
   "cell_type": "code",
   "execution_count": 7,
   "id": "e8385978-28f2-4c8c-8b17-00ca78119e60",
   "metadata": {},
   "outputs": [
    {
     "name": "stdout",
     "output_type": "stream",
     "text": [
      "detections made on priv group: 1469.0\n",
      "detections made on unpriv group: 748.0\n"
     ]
    }
   ],
   "source": [
    "# count corrections by priv\n",
    "priv_det_cnt = detected_cnt[P==priv_group].sum()\n",
    "print(f'detections made on priv group: {priv_det_cnt}')\n",
    "\n",
    "unpriv_det_cnt = detected_cnt[P!=priv_group].sum()\n",
    "print(f'detections made on unpriv group: {unpriv_det_cnt}')"
   ]
  },
  {
   "cell_type": "code",
   "execution_count": 8,
   "id": "98f7ba78-e58b-4496-a627-69a9c7ff2960",
   "metadata": {},
   "outputs": [
    {
     "name": "stdout",
     "output_type": "stream",
     "text": [
      "detected members of priv group: 633 out of 690, 91.7% (2.32 corrections per corrected member)\n",
      "detected members of unpriv group: 296 out of 310, 95.5% (2.53 corrections per corrected member)\n"
     ]
    }
   ],
   "source": [
    "priv_det_m_cnt = (detected_cnt[P==priv_group] > 0).sum()\n",
    "print(f'detected members of priv group: {priv_det_m_cnt} out of {(P==priv_group).sum()}, {priv_det_m_cnt/(P==priv_group).sum()*100:.1f}% ({priv_det_cnt/priv_det_m_cnt:.2f} corrections per corrected member)')\n",
    "\n",
    "unpriv_det_m_cnt = (detected_cnt[P!=priv_group] > 0).sum()\n",
    "print(f'detected members of unpriv group: {unpriv_det_m_cnt} out of {(P!=priv_group).sum()}, {unpriv_det_m_cnt/(P!=priv_group).sum()*100:.1f}% ({unpriv_det_cnt/unpriv_det_m_cnt:.2f} corrections per corrected member)')"
   ]
  },
  {
   "cell_type": "markdown",
   "id": "e3cf2c99-c5cb-4edd-999c-0db59fc363c1",
   "metadata": {},
   "source": [
    "## Check Corrected Error Counts"
   ]
  },
  {
   "cell_type": "code",
   "execution_count": 9,
   "id": "03bc93c5-b68c-4f13-b089-3200f155d971",
   "metadata": {},
   "outputs": [
    {
     "name": "stdout",
     "output_type": "stream",
     "text": [
      "total corrections: 1867.0\n"
     ]
    }
   ],
   "source": [
    "corrected_cnt = np.zeros(P.shape)\n",
    "for cell in corrected_dict:\n",
    "    val = corrected_dict[cell]\n",
    "    if val == '': val='nan'\n",
    "    # dirty_df.iloc[cell] = float(val)\n",
    "    corrected_cnt[cell[0]] += 1\n",
    "\n",
    "    # print(cell[0])\n",
    "total = corrected_cnt.sum()\n",
    "print(f'total corrections: {total}')"
   ]
  },
  {
   "cell_type": "code",
   "execution_count": 10,
   "id": "ec4207e7-938e-439d-80f4-4adf4194ac3d",
   "metadata": {},
   "outputs": [
    {
     "name": "stdout",
     "output_type": "stream",
     "text": [
      "corrections made on priv group: 1195.0\n",
      "corrections made on unpriv group: 672.0\n"
     ]
    }
   ],
   "source": [
    "# count corrections by priv\n",
    "priv_corr_cnt = corrected_cnt[P==priv_group].sum()\n",
    "print(f'corrections made on priv group: {priv_corr_cnt}')\n",
    "\n",
    "unpriv_corr_cnt = corrected_cnt[P!=priv_group].sum()\n",
    "print(f'corrections made on unpriv group: {unpriv_corr_cnt}')"
   ]
  },
  {
   "cell_type": "code",
   "execution_count": 11,
   "id": "a668ea3d-82fe-4719-ab5f-e69631810f53",
   "metadata": {},
   "outputs": [
    {
     "name": "stdout",
     "output_type": "stream",
     "text": [
      "corr members of priv group: 580 out of 690, 84.1% (2.06 corrections per corrected member)\n",
      "corr members of unpriv group: 285 out of 310, 91.9% (2.36 corrections per corrected member)\n"
     ]
    }
   ],
   "source": [
    "priv_corr_m_cnt = (corrected_cnt[P==priv_group] > 0).sum()\n",
    "print(f'corr members of priv group: {priv_corr_m_cnt} out of {(P==priv_group).sum()}, {priv_corr_m_cnt/(P==priv_group).sum()*100:.1f}% ({priv_corr_cnt/priv_corr_m_cnt:.2f} corrections per corrected member)')\n",
    "\n",
    "unpriv_corr_m_cnt = (corrected_cnt[P!=priv_group] > 0).sum()\n",
    "print(f'corr members of unpriv group: {unpriv_corr_m_cnt} out of {(P!=priv_group).sum()}, {unpriv_corr_m_cnt/(P!=priv_group).sum()*100:.1f}% ({unpriv_corr_cnt/unpriv_corr_m_cnt:.2f} corrections per corrected member)')"
   ]
  },
  {
   "cell_type": "markdown",
   "id": "7281539c-73b1-4894-b832-ce415b4162db",
   "metadata": {},
   "source": [
    "## Check Actual Error Counts"
   ]
  },
  {
   "cell_type": "code",
   "execution_count": 12,
   "id": "58b01986-56ca-45bf-b302-b4bde29f9712",
   "metadata": {},
   "outputs": [
    {
     "name": "stdout",
     "output_type": "stream",
     "text": [
      "total errors: 4703.0\n"
     ]
    }
   ],
   "source": [
    "error_cnt = np.zeros(P.shape)\n",
    "for cell in error_dict:\n",
    "    error_cnt[cell[0]] += 1\n",
    "\n",
    "total = error_cnt.sum()\n",
    "print(f'total errors: {total}')"
   ]
  },
  {
   "cell_type": "code",
   "execution_count": 13,
   "id": "20a4e1d1-a9fc-4708-aeeb-dd6969a251b2",
   "metadata": {},
   "outputs": [
    {
     "name": "stdout",
     "output_type": "stream",
     "text": [
      "errors detected on priv group: 3197.0\n",
      "errors detected on unpriv group: 1506.0\n"
     ]
    }
   ],
   "source": [
    "# count corrections by priv\n",
    "priv_err_cnt = error_cnt[P==priv_group].sum()\n",
    "print(f'errors detected on priv group: {priv_err_cnt}')\n",
    "\n",
    "unpriv_err_cnt = error_cnt[P!=priv_group].sum()\n",
    "print(f'errors detected on unpriv group: {unpriv_err_cnt}')"
   ]
  },
  {
   "cell_type": "code",
   "execution_count": 14,
   "id": "566802b5-47a9-4cfe-b69d-de8433f329ed",
   "metadata": {},
   "outputs": [
    {
     "name": "stdout",
     "output_type": "stream",
     "text": [
      "error members of priv group: 686 out of 690, 99.4% (4.66 errors per incorrect member)\n",
      "error members of unpriv group: 309 out of 310, 99.7% (4.87 erros per incorrect member)\n"
     ]
    }
   ],
   "source": [
    "priv_err_m_cnt = (error_cnt[P==priv_group] > 0).sum()\n",
    "print(f'error members of priv group: {priv_err_m_cnt} out of {(P==priv_group).sum()}, {priv_err_m_cnt/(P==priv_group).sum()*100:.1f}% ({priv_err_cnt/priv_err_m_cnt:.2f} errors per incorrect member)')\n",
    "\n",
    "unpriv_err_m_cnt = (error_cnt[P!=priv_group] > 0).sum()\n",
    "print(f'error members of unpriv group: {unpriv_err_m_cnt} out of {(P!=priv_group).sum()}, {unpriv_err_m_cnt/(P!=priv_group).sum()*100:.1f}% ({unpriv_err_cnt/unpriv_err_m_cnt:.2f} erros per incorrect member)')"
   ]
  },
  {
   "cell_type": "markdown",
   "id": "93204a45-8441-4bd8-aa98-cd4c1afcfa3e",
   "metadata": {},
   "source": [
    "## Investigate Detection"
   ]
  },
  {
   "cell_type": "code",
   "execution_count": 15,
   "id": "03ebd1f8-c616-4953-960d-d93301e06b91",
   "metadata": {},
   "outputs": [
    {
     "data": {
      "text/plain": [
       "array([17980., 40020.])"
      ]
     },
     "execution_count": 15,
     "metadata": {},
     "output_type": "execute_result"
    }
   ],
   "source": [
    "i_prot = np.arange(P.shape[0])[P==priv_group]\n",
    "i_unprot = np.arange(P.shape[0])[P!=priv_group]\n",
    "\n",
    "totals_by_prot = np.zeros(2)\n",
    "totals_by_prot[0] = (P==0).sum() * col_cnt\n",
    "totals_by_prot[1] = (P==1).sum() * col_cnt\n",
    "totals_by_prot"
   ]
  },
  {
   "cell_type": "code",
   "execution_count": 16,
   "id": "8052d307-2437-4269-8d21-88d51f271e29",
   "metadata": {},
   "outputs": [
    {
     "name": "stdout",
     "output_type": "stream",
     "text": [
      "[ 748. 1469.]\n",
      "[138. 367.]\n"
     ]
    }
   ],
   "source": [
    "det_vals = np.zeros(2)\n",
    "det_vals_errors = np.zeros(2)\n",
    "# det_vals_correct = np.zeros(2)\n",
    "\n",
    "tp= np.zeros(2)\n",
    "fp = np.zeros(2)\n",
    "\n",
    "for cell in detected_dict:\n",
    "    i = cell[0]\n",
    "    p_val = P[i]\n",
    "    det_vals[p_val] +=1\n",
    "    if cell in error_dict:\n",
    "        det_vals_errors[p_val] +=1\n",
    "        tp[p_val] += 1\n",
    "    else: fp[p_val] += 1\n",
    "\n",
    "        # if detected_dict[cell] == error_dict[cell]:\n",
    "        #     cor_vals_correct[p_val] +=1\n",
    "\n",
    "print(det_vals)\n",
    "print(det_vals_errors)"
   ]
  },
  {
   "cell_type": "code",
   "execution_count": 17,
   "id": "e55fe989-d038-4793-917d-61d40c3e547d",
   "metadata": {},
   "outputs": [
    {
     "name": "stdout",
     "output_type": "stream",
     "text": [
      "[1506. 3197.]\n",
      "[138. 367.]\n"
     ]
    }
   ],
   "source": [
    "err_vals = np.zeros(2)\n",
    "err_vals_detected = np.zeros(2)\n",
    "\n",
    "fn = np.zeros(2)\n",
    "tn = np.zeros(2)\n",
    "# err_vals_corrected_correctly = np.zeros(2)\n",
    "\n",
    "for cell in error_dict:\n",
    "    i = cell[0]\n",
    "    p_val = P[i]\n",
    "    err_vals[p_val] +=1\n",
    "    if cell in detected_dict:\n",
    "        err_vals_detected[p_val] +=1\n",
    "    else: fn[p_val] +=1\n",
    "\n",
    "        # if corrected_dict[cell] == error_dict[cell]:\n",
    "        #     err_vals_corrected_correctly[p_val] +=1\n",
    "\n",
    "tn = totals_by_prot - tp - fp - fn\n",
    "print(err_vals)\n",
    "print(err_vals_detected)\n",
    "# print(err_vals_corrected_correctly)"
   ]
  },
  {
   "cell_type": "code",
   "execution_count": 18,
   "id": "3931f463-db33-45d6-8b00-0fc7720ebc31",
   "metadata": {},
   "outputs": [
    {
     "name": "stdout",
     "output_type": "stream",
     "text": [
      "Priv Group\n",
      "\tActual Errors: 3197 (8%)\n",
      "\tActual Errors identified as incorrect: 367 (11.5% of actual errors)\n",
      "\tDetected Errors: 1469 (4%)\n",
      "\tDetected Errors Actually incorrect: 367 (25.0% of detected errors)\n",
      "\ttp: 367\n",
      "\tfp: 1102\n",
      "\ttn: 35721\n",
      "\tfn: 2830\n",
      "\ttotal: 40020\n",
      "\taccuracy: 0.9017491254372814\n"
     ]
    }
   ],
   "source": [
    "group = priv_group\n",
    "n_group = (P==group).sum()\n",
    "group_vals = n_group*col_cnt\n",
    "print(f'Priv Group')\n",
    "print(f'\\tActual Errors: {err_vals[group]:.0f} ({err_vals[group]/group_vals*100:.0f}%)')\n",
    "print(f'\\tActual Errors identified as incorrect: {err_vals_detected[group]:.0f} ({err_vals_detected[group]/err_vals[group]*100:.1f}% of actual errors)')\n",
    "print(f'\\tDetected Errors: {det_vals[group]:.0f} ({det_vals[group]/group_vals*100:.0f}%)')\n",
    "print(f'\\tDetected Errors Actually incorrect: {det_vals_errors[group]:.0f} ({det_vals_errors[group]/det_vals[group]*100:.1f}% of detected errors)')\n",
    "\n",
    "print(f'\\ttp: {tp[group]:.0f}')\n",
    "print(f'\\tfp: {fp[group]:.0f}')\n",
    "print(f'\\ttn: {tn[group]:.0f}')\n",
    "print(f'\\tfn: {fn[group]:.0f}')\n",
    "print(f'\\ttotal: {totals_by_prot[group]:.0f}')\n",
    "\n",
    "acc = (tp[group] + tn[group]) / totals_by_prot[group]\n",
    "print(f'\\taccuracy: {acc}')"
   ]
  },
  {
   "cell_type": "code",
   "execution_count": 19,
   "id": "8795fcdf-3bfc-442c-acc7-3806baf573a8",
   "metadata": {
    "scrolled": true
   },
   "outputs": [
    {
     "name": "stdout",
     "output_type": "stream",
     "text": [
      "Priv Group\n",
      "\tActual Errors: 1506 (8%)\n",
      "\tActual Errors identified as incorrect: 138 (9.2% of actual errors)\n",
      "\tDetected Errors: 748 (4%)\n",
      "\tDetected Errors Actually incorrect: 138 (18.4% of detected errors)\n",
      "\ttp: 138\n",
      "\tfp: 610\n",
      "\ttn: 15864\n",
      "\tfn: 1368\n",
      "\ttotal: 17980\n",
      "\taccuracy: 0.8899888765294772\n"
     ]
    }
   ],
   "source": [
    "group = abs(priv_group-1)\n",
    "n_group = (P==group).sum()\n",
    "group_vals = n_group*col_cnt\n",
    "print(f'Priv Group')\n",
    "print(f'\\tActual Errors: {err_vals[group]:.0f} ({err_vals[group]/group_vals*100:.0f}%)')\n",
    "print(f'\\tActual Errors identified as incorrect: {err_vals_detected[group]:.0f} ({err_vals_detected[group]/err_vals[group]*100:.1f}% of actual errors)')\n",
    "print(f'\\tDetected Errors: {det_vals[group]:.0f} ({det_vals[group]/group_vals*100:.0f}%)')\n",
    "print(f'\\tDetected Errors Actually incorrect: {det_vals_errors[group]:.0f} ({det_vals_errors[group]/det_vals[group]*100:.1f}% of detected errors)')\n",
    "\n",
    "print(f'\\ttp: {tp[group]:.0f}')\n",
    "print(f'\\tfp: {fp[group]:.0f}')\n",
    "print(f'\\ttn: {tn[group]:.0f}')\n",
    "print(f'\\tfn: {fn[group]:.0f}')\n",
    "print(f'\\ttotal: {totals_by_prot[group]:.0f}')\n",
    "acc = (tp[group] + tn[group]) / totals_by_prot[group]\n",
    "print(f'\\taccuracy: {acc}')"
   ]
  },
  {
   "cell_type": "code",
   "execution_count": 20,
   "id": "af7e0a64-b8b4-46d9-bb97-454251ad0b77",
   "metadata": {},
   "outputs": [
    {
     "name": "stdout",
     "output_type": "stream",
     "text": [
      "tp: 505.0\n",
      "fp: 1712.0\n",
      "tn: 51585.0\n",
      "fn: 4198.0\n",
      "totals: 58000.0\n",
      "accuracy: 0.8981034482758621\n",
      "equalized odds: 0.01513137532463424\n"
     ]
    }
   ],
   "source": [
    "print(f'tp: {tp.sum()}')\n",
    "print(f'fp: {fp.sum()}')\n",
    "print(f'tn: {tn.sum()}')\n",
    "print(f'fn: {fn.sum()}')\n",
    "print(f'totals: {totals_by_prot.sum()}')\n",
    "\n",
    "acc = (tp.sum() + tn.sum()) / totals_by_prot.sum()\n",
    "print(f'accuracy: {acc}')\n",
    "\n",
    "tprDiff = (tp[0]/(tp[0]+fn[0])) - (tp[1]/(tp[1]+fn[1]))\n",
    "fprDiff = (fp[0]/(fp[0]+tn[0])) - (fp[1]/(fp[1]+tn[1]))\n",
    "eo = .5*(abs(tprDiff)+abs(fprDiff))\n",
    "print(f'equalized odds: {eo}')"
   ]
  },
  {
   "cell_type": "markdown",
   "id": "3a44ed60-4e05-4d01-ab3d-4aa0a6de8cb7",
   "metadata": {},
   "source": [
    "## Investigate Correction"
   ]
  },
  {
   "cell_type": "code",
   "execution_count": 21,
   "id": "1aa31d43-55d5-4997-896f-4962945f3d55",
   "metadata": {},
   "outputs": [],
   "source": [
    "i_prot = np.arange(P.shape[0])[P==priv_group]\n",
    "i_unprot = np.arange(P.shape[0])[P!=priv_group]\n"
   ]
  },
  {
   "cell_type": "code",
   "execution_count": 22,
   "id": "40566afb-ac60-4307-b690-59c7d1e8b8ad",
   "metadata": {},
   "outputs": [
    {
     "name": "stdout",
     "output_type": "stream",
     "text": [
      "[ 672. 1195.]\n",
      "[ 636. 1161.]\n",
      "[114. 292.]\n",
      "rmse dirty: 482.0735074975172\n",
      "rmse corrected: 1023.4403272171746\n",
      "protected\n",
      "rmse dirty: 407.57765656492063\n",
      "rmse corrected: 1071.847762044592\n",
      "unprotected\n",
      "rmse dirty: 519.2921485684658\n",
      "rmse corrected: 995.1849259409448\n"
     ]
    }
   ],
   "source": [
    "cor_vals = np.zeros(2)\n",
    "cor_vals_errors = np.zeros(2)\n",
    "cor_vals_correct = np.zeros(2)\n",
    "\n",
    "actual = []\n",
    "dirty = []\n",
    "pred = []\n",
    "prot_mask = []\n",
    "\n",
    "for cell in corrected_dict:\n",
    "    i = cell[0]\n",
    "    p_val = P[i]\n",
    "    cor_vals[p_val] +=1\n",
    "\n",
    "    # get rmse for all corrected \n",
    "    clean_value = float('nan') if clean_df.iloc[cell]=='' else float(clean_df.iloc[cell])\n",
    "    dirty_value = float('nan') if dirty_df.iloc[cell]=='' else float(dirty_df.iloc[cell])\n",
    "    corrected_value = float('nan') if corrected_dict[cell]=='' else float(corrected_dict[cell])\n",
    "\n",
    "    actual.append(clean_value)\n",
    "    dirty.append(dirty_value)\n",
    "    pred.append(corrected_value)\n",
    "    prot_mask.append(p_val)\n",
    "    if cell in detected_dict:\n",
    "        cor_vals_errors[p_val] +=1\n",
    "\n",
    "        # if corrected_dict[cell] == error_dict[cell]:\n",
    "        #     cor_vals_correct[p_val] +=1\n",
    "        # print(corrected_dict[cell], clean_df.iloc[cell])\n",
    "        if corrected_value == clean_value:\n",
    "            # print(corrected_dict[cell], clean_df.iloc[cell])\n",
    "            # print('yes')\n",
    "            cor_vals_correct[p_val] +=1\n",
    "\n",
    "actual = [0 if math.isnan(x) else x for x in actual]\n",
    "dirty = [0 if math.isnan(x) else x for x in dirty]\n",
    "pred = [0 if math.isnan(x) else x for x in pred]\n",
    "\n",
    "print(cor_vals)\n",
    "print(cor_vals_errors)\n",
    "print(cor_vals_correct)\n",
    "print(f'rmse dirty: {mean_squared_error(actual, dirty, squared = False)}')\n",
    "print(f'rmse corrected: {mean_squared_error(actual, pred, squared = False)}')\n",
    "\n",
    "print('protected')\n",
    "mask = np.array(prot_mask)!=priv_group\n",
    "prot_dirty_rmse = mean_squared_error(np.array(actual)[mask], np.array(dirty)[mask], squared = False)\n",
    "print(f'rmse dirty: {prot_dirty_rmse}')\n",
    "prot_corr_rmse = mean_squared_error(np.array(actual)[mask], np.array(pred)[mask], squared = False)\n",
    "print(f'rmse corrected: {prot_corr_rmse}')\n",
    "\n",
    "print('unprotected')\n",
    "mask = np.array(prot_mask)==priv_group\n",
    "unprot_dirty_rmse = mean_squared_error(np.array(actual)[mask], np.array(dirty)[mask], squared = False)\n",
    "print(f'rmse dirty: {unprot_dirty_rmse}')\n",
    "unprot_corr_rmse = mean_squared_error(np.array(actual)[mask], np.array(pred)[mask], squared = False)\n",
    "print(f'rmse corrected: {unprot_corr_rmse}')"
   ]
  },
  {
   "cell_type": "code",
   "execution_count": 23,
   "id": "42a47294-8d3a-46b3-be55-338cc176faa4",
   "metadata": {},
   "outputs": [
    {
     "name": "stdout",
     "output_type": "stream",
     "text": [
      "[ 672. 1195.]\n",
      "[138. 324.]\n",
      "[105. 258.]\n",
      "rmse dirty: 969.0907239102185\n",
      "rmse corrected: 1050.019923538044\n",
      "protected\n",
      "rmse dirty: 899.4053389702086\n",
      "rmse corrected: 829.028635368447\n",
      "unprotected\n",
      "rmse dirty: 997.2939946316708\n",
      "rmse corrected: 1131.1096376327448\n"
     ]
    }
   ],
   "source": [
    "cor_vals = np.zeros(2)\n",
    "cor_vals_errors = np.zeros(2)\n",
    "cor_vals_correct = np.zeros(2)\n",
    "\n",
    "actual = []\n",
    "dirty = []\n",
    "pred = []\n",
    "prot_mask = []\n",
    "\n",
    "for cell in corrected_dict:\n",
    "    i = cell[0]\n",
    "    p_val = P[i]\n",
    "    cor_vals[p_val] +=1\n",
    "    if cell in error_dict: # if corrected and actual error\n",
    "        cor_vals_errors[p_val] +=1\n",
    "\n",
    "        # if corrected_dict[cell] == error_dict[cell]:\n",
    "        #     cor_vals_correct[p_val] +=1\n",
    "        # print(corrected_dict[cell], clean_df.iloc[cell])\n",
    "        clean_value = float('nan') if clean_df.iloc[cell]=='' else float(clean_df.iloc[cell])\n",
    "        dirty_value = float('nan') if dirty_df.iloc[cell]=='' else float(dirty_df.iloc[cell])\n",
    "        corrected_value = float('nan') if corrected_dict[cell]=='' else float(corrected_dict[cell])\n",
    "\n",
    "        actual.append(clean_value)\n",
    "        dirty.append(dirty_value)\n",
    "        pred.append(corrected_value)\n",
    "        prot_mask.append(p_val)\n",
    "        if corrected_value == clean_value:\n",
    "            # print(corrected_dict[cell], clean_df.iloc[cell])\n",
    "            # print('yes')\n",
    "            cor_vals_correct[p_val] +=1\n",
    "\n",
    "actual = [0 if math.isnan(x) else x for x in actual]\n",
    "dirty = [0 if math.isnan(x) else x for x in dirty]\n",
    "pred = [0 if math.isnan(x) else x for x in pred]\n",
    "\n",
    "print(cor_vals)\n",
    "print(cor_vals_errors)\n",
    "print(cor_vals_correct)\n",
    "print(f'rmse dirty: {mean_squared_error(actual, dirty, squared = False)}')\n",
    "print(f'rmse corrected: {mean_squared_error(actual, pred, squared = False)}')\n",
    "\n",
    "print('protected')\n",
    "mask = np.array(prot_mask)!=priv_group\n",
    "prot_dirty_rmse = mean_squared_error(np.array(actual)[mask], np.array(dirty)[mask], squared = False)\n",
    "print(f'rmse dirty: {prot_dirty_rmse}')\n",
    "prot_corr_rmse = mean_squared_error(np.array(actual)[mask], np.array(pred)[mask], squared = False)\n",
    "print(f'rmse corrected: {prot_corr_rmse}')\n",
    "\n",
    "print('unprotected')\n",
    "mask = np.array(prot_mask)==priv_group\n",
    "unprot_dirty_rmse = mean_squared_error(np.array(actual)[mask], np.array(dirty)[mask], squared = False)\n",
    "print(f'rmse dirty: {unprot_dirty_rmse}')\n",
    "unprot_corr_rmse = mean_squared_error(np.array(actual)[mask], np.array(pred)[mask], squared = False)\n",
    "print(f'rmse corrected: {unprot_corr_rmse}')"
   ]
  },
  {
   "cell_type": "code",
   "execution_count": 24,
   "id": "7645faba-2570-40a9-95fa-d03fc66ad817",
   "metadata": {},
   "outputs": [
    {
     "data": {
      "text/plain": [
       "array([7.308e+03, 6.187e+03, 7.090e+02, 1.495e+03, 6.850e+02, 7.270e+02,\n",
       "       1.484e+03, 1.309e+03, 2.384e+03, 4.380e+03, 6.681e+03, 2.169e+03,\n",
       "       1.000e+00, 0.000e+00, 0.000e+00, 0.000e+00, 1.000e+00, 1.000e+00,\n",
       "       1.000e+00, 1.000e+00, 0.000e+00, 0.000e+00, 0.000e+00, 0.000e+00,\n",
       "       0.000e+00, 0.000e+00, 0.000e+00, 0.000e+00, 0.000e+00, 0.000e+00,\n",
       "       0.000e+00, 0.000e+00, 1.000e+00, 0.000e+00, 0.000e+00, 0.000e+00,\n",
       "       0.000e+00, 0.000e+00, 0.000e+00, 0.000e+00, 0.000e+00, 0.000e+00,\n",
       "       0.000e+00, 0.000e+00, 0.000e+00, 0.000e+00, 1.000e+00, 0.000e+00,\n",
       "       0.000e+00, 0.000e+00, 0.000e+00, 1.000e+00, 0.000e+00, 0.000e+00,\n",
       "       0.000e+00, 1.000e+00, 1.000e+00, 0.000e+00, 0.000e+00, 0.000e+00,\n",
       "       0.000e+00, 1.000e+00, 0.000e+00, 1.000e+00, 1.000e+00, 1.000e+00,\n",
       "       0.000e+00, 0.000e+00, 0.000e+00, 0.000e+00, 1.000e+00, 0.000e+00,\n",
       "       0.000e+00, 4.900e+01, 3.100e+01, 5.500e+01, 4.500e+01, 3.900e+01,\n",
       "       4.100e+01, 3.200e+01, 3.100e+01, 2.000e+00, 2.000e+00, 2.000e+00,\n",
       "       2.000e+00, 3.000e+00, 2.000e+00, 1.000e+00, 1.000e+00, 1.000e+00,\n",
       "       1.000e+00, 3.000e+00, 2.000e+00, 2.000e+00, 2.000e+00, 2.000e+00,\n",
       "       1.000e+00, 0.000e+00, 0.000e+00, 0.000e+00, 0.000e+00, 0.000e+00,\n",
       "       0.000e+00, 0.000e+00, 1.338e+03, 1.000e+00, 1.000e+00, 1.200e+01,\n",
       "       4.200e+01, 2.400e+01, 4.500e+01, 1.200e+01, 9.000e+00, 1.800e+01,\n",
       "       4.200e+01, 6.000e+00, 3.600e+01, 1.500e+01, 2.000e+01, 2.122e+03,\n",
       "       2.000e+00, 1.000e+00, 0.000e+00, 0.000e+00, 0.000e+00, 0.000e+00,\n",
       "       0.000e+00, 0.000e+00, 0.000e+00, 0.000e+00, 0.000e+00, 0.000e+00,\n",
       "       0.000e+00, 0.000e+00, 0.000e+00, 0.000e+00, 0.000e+00, 0.000e+00,\n",
       "       0.000e+00, 0.000e+00, 0.000e+00, 0.000e+00, 0.000e+00, 0.000e+00,\n",
       "       0.000e+00, 0.000e+00, 0.000e+00, 0.000e+00, 0.000e+00, 0.000e+00,\n",
       "       0.000e+00, 0.000e+00, 0.000e+00, 0.000e+00, 0.000e+00, 0.000e+00,\n",
       "       0.000e+00, 0.000e+00, 0.000e+00, 0.000e+00, 0.000e+00, 0.000e+00,\n",
       "       0.000e+00, 0.000e+00, 0.000e+00, 0.000e+00, 0.000e+00, 0.000e+00,\n",
       "       0.000e+00, 0.000e+00, 0.000e+00, 0.000e+00, 0.000e+00, 0.000e+00,\n",
       "       0.000e+00, 1.000e+00, 0.000e+00, 1.000e+00, 0.000e+00, 0.000e+00,\n",
       "       0.000e+00, 0.000e+00, 0.000e+00, 0.000e+00, 0.000e+00, 0.000e+00,\n",
       "       0.000e+00, 0.000e+00, 0.000e+00, 0.000e+00, 0.000e+00, 0.000e+00,\n",
       "       0.000e+00, 0.000e+00, 0.000e+00, 0.000e+00, 0.000e+00, 0.000e+00,\n",
       "       0.000e+00, 0.000e+00, 0.000e+00, 0.000e+00, 0.000e+00, 0.000e+00,\n",
       "       0.000e+00, 0.000e+00, 0.000e+00, 0.000e+00, 0.000e+00, 0.000e+00,\n",
       "       1.000e+00, 1.000e+00, 1.000e+00, 1.000e+00, 1.000e+00, 1.000e+00,\n",
       "       2.000e+00, 0.000e+00, 0.000e+00, 0.000e+00, 0.000e+00, 0.000e+00,\n",
       "       1.000e+00, 0.000e+00, 0.000e+00, 0.000e+00, 0.000e+00, 1.264e+03,\n",
       "       6.110e+03, 1.984e+03, 3.448e+03, 7.966e+03, 4.712e+03, 1.289e+03,\n",
       "       3.652e+03, 2.993e+03, 3.590e+03, 8.947e+03, 4.844e+03, 1.000e+00,\n",
       "       1.000e+00, 0.000e+00, 1.000e+00, 0.000e+00, 2.000e+00, 1.000e+00,\n",
       "       1.000e+00, 0.000e+00, 1.000e+00, 0.000e+00, 0.000e+00, 1.000e+00,\n",
       "       0.000e+00, 1.000e+00, 1.000e+00, 0.000e+00, 0.000e+00, 2.000e+00,\n",
       "       3.000e+00, 2.000e+00, 3.100e+01, 1.000e+00, 1.000e+00, 0.000e+00,\n",
       "       0.000e+00, 1.000e+00, 1.000e+00, 1.000e+00, 1.000e+00, 2.000e+00,\n",
       "       1.000e+00, 1.000e+00, 0.000e+00, 0.000e+00, 0.000e+00, 0.000e+00,\n",
       "       1.000e+00, 0.000e+00, 0.000e+00, 0.000e+00, 0.000e+00, 0.000e+00,\n",
       "       0.000e+00, 0.000e+00, 0.000e+00, 0.000e+00, 1.000e+00, 0.000e+00,\n",
       "       0.000e+00, 0.000e+00, 0.000e+00, 0.000e+00, 0.000e+00, 1.000e+00,\n",
       "       0.000e+00, 1.000e+00, 0.000e+00, 0.000e+00, 0.000e+00, 0.000e+00,\n",
       "       0.000e+00, 0.000e+00, 0.000e+00, 0.000e+00, 0.000e+00, 0.000e+00,\n",
       "       0.000e+00, 0.000e+00, 0.000e+00, 0.000e+00, 0.000e+00, 0.000e+00,\n",
       "       0.000e+00, 0.000e+00, 0.000e+00, 0.000e+00, 0.000e+00, 0.000e+00,\n",
       "       0.000e+00, 0.000e+00, 1.574e+03, 1.000e+00, 0.000e+00, 0.000e+00])"
      ]
     },
     "execution_count": 24,
     "metadata": {},
     "output_type": "execute_result"
    }
   ],
   "source": [
    "np.array(actual)[np.array(prot_mask)==priv_group]\n",
    "# prot_mask"
   ]
  },
  {
   "cell_type": "code",
   "execution_count": 25,
   "id": "946ee799-e1bc-4b76-99c0-7166a042724e",
   "metadata": {},
   "outputs": [
    {
     "name": "stdout",
     "output_type": "stream",
     "text": [
      "[ 748. 1469.]\n",
      "[ 636. 1161.]\n",
      "[114. 292.]\n"
     ]
    }
   ],
   "source": [
    "err_vals = np.zeros(2)\n",
    "err_vals_corrected = np.zeros(2)\n",
    "err_vals_corrected_correctly = np.zeros(2)\n",
    "\n",
    "for cell in detected_dict:\n",
    "    i = cell[0]\n",
    "    p_val = P[i]\n",
    "    err_vals[p_val] +=1\n",
    "    if cell in corrected_dict:\n",
    "        err_vals_corrected[p_val] +=1\n",
    "\n",
    "        clean_value = float('nan') if clean_df.iloc[cell]=='' else float(clean_df.iloc[cell])\n",
    "        corrected_value = float('nan') if corrected_dict[cell]=='' else float(corrected_dict[cell])\n",
    "\n",
    "        if corrected_value == clean_value:\n",
    "            err_vals_corrected_correctly[p_val] +=1\n",
    "            \n",
    "print(err_vals)\n",
    "print(err_vals_corrected)\n",
    "print(err_vals_corrected_correctly)"
   ]
  },
  {
   "cell_type": "code",
   "execution_count": 26,
   "id": "409b5524-24ea-40de-9777-255d295bcb63",
   "metadata": {},
   "outputs": [
    {
     "name": "stdout",
     "output_type": "stream",
     "text": [
      "Unprotected Group\n",
      "\tActual Errors: 1469 (4%)\n",
      "\tActual Errors identified as incorrect: 1161 (79.0% of actual errors)\n",
      "\tCorrected Correctly: 292\n",
      "\t\t(19.9% of actual errors)\n",
      "\t\t(25.2% of corrected errors)\n"
     ]
    }
   ],
   "source": [
    "group = priv_group\n",
    "n_group = (P==group).sum()\n",
    "group_vals = n_group*col_cnt\n",
    "print(f'Unprotected Group')\n",
    "print(f'\\tActual Errors: {err_vals[group]:.0f} ({err_vals[group]/group_vals*100:.0f}%)')\n",
    "print(f'\\tActual Errors identified as incorrect: {err_vals_corrected[group]:.0f} ({err_vals_corrected[group]/err_vals[group]*100:.1f}% of actual errors)')\n",
    "print(f'\\tCorrected Correctly: {err_vals_corrected_correctly[group]:.0f}')\n",
    "print(f'\\t\\t({err_vals_corrected_correctly[group]/err_vals[group]*100:.1f}% of actual errors)')\n",
    "print(f'\\t\\t({err_vals_corrected_correctly[group]/err_vals_corrected[group]*100:.1f}% of corrected errors)')"
   ]
  },
  {
   "cell_type": "code",
   "execution_count": 27,
   "id": "7c20c5d1-07ad-4b2f-ae60-9334d376f285",
   "metadata": {
    "scrolled": true
   },
   "outputs": [
    {
     "name": "stdout",
     "output_type": "stream",
     "text": [
      "Protected Group\n",
      "\tActual Errors: 748 (4%)\n",
      "\tActual Errors identified as incorrect: 636 (85.0% of actual errors)\n",
      "\tCorrected Correctly: 114\n",
      "\t\t(15.2% of actual errors)\n",
      "\t\t(17.9% of corrected errors)\n"
     ]
    }
   ],
   "source": [
    "group = abs(priv_group-1)\n",
    "n_group = (P==group).sum()\n",
    "group_vals = n_group*col_cnt\n",
    "print(f'Protected Group')\n",
    "print(f'\\tActual Errors: {err_vals[group]:.0f} ({err_vals[group]/group_vals*100:.0f}%)')\n",
    "print(f'\\tActual Errors identified as incorrect: {err_vals_corrected[group]:.0f} ({err_vals_corrected[group]/err_vals[group]*100:.1f}% of actual errors)')\n",
    "print(f'\\tCorrected Correctly: {err_vals_corrected_correctly[group]:.0f}')\n",
    "print(f'\\t\\t({err_vals_corrected_correctly[group]/err_vals[group]*100:.1f}% of actual errors)')\n",
    "print(f'\\t\\t({err_vals_corrected_correctly[group]/err_vals_corrected[group]*100:.1f}% of corrected errors)')"
   ]
  },
  {
   "cell_type": "code",
   "execution_count": 28,
   "id": "4fdaf676-9805-48d1-a61d-7b0283efd6b9",
   "metadata": {},
   "outputs": [
    {
     "data": {
      "image/png": "[encoded data removed]",
      "text/plain": [
       "<Figure size 1000x480 with 1 Axes>"
      ]
     },
     "metadata": {},
     "output_type": "display_data"
    }
   ],
   "source": [
    "err_vals\n",
    "x_labels =['protected','protected']\n",
    "x_labels[priv_group] = 'unprotected'\n",
    "\n",
    "# ind = np.arange(2) # the x locations for the groups\n",
    "width = 0.5\n",
    "ind = [0,0.1+width] # the x locations for the groups\n",
    "fig = plt.figure()\n",
    "fig.set_figwidth(10)\n",
    "\n",
    "c = ['#8885d7','#676767','#47637d']\n",
    "c = ['#8885d7','#7ba4d4','#a8d4df']\n",
    "\n",
    "ax = fig.add_axes([0,0,1,1])\n",
    "ax.bar(ind, err_vals, width, color=c[0])\n",
    "ax.bar(ind, err_vals_corrected, width,bottom=0, color=c[1], label='test')\n",
    "ax.bar(ind, err_vals_corrected_correctly, width,bottom=0, color=c[2])\n",
    "\n",
    "# top labels\n",
    "# y_offset = 500\n",
    "# y_offset = -3500 # compas\n",
    "# y_offset = -60 # german\n",
    "y_offset = -1000 # adult\n",
    "\n",
    "#  actual error labels\n",
    "# for i in np.arange(2):\n",
    "#     n_group = (P==i).sum()\n",
    "#     group_vals = n_group*col_cnt\n",
    "#     total = err_vals[i]\n",
    "#     label = f'{total:.0f} detected \\n({total/group_vals*100:.1f}% of values)'\n",
    "#     ax.text(ind[i], total + y_offset, label, ha='center', color='black',fontsize=14)\n",
    "\n",
    "# corrected error labels\n",
    "y_offset = -1700 # adult\n",
    "for i in np.arange(2):\n",
    "    n_group = (P==i).sum()\n",
    "    errors = err_vals[i]\n",
    "    total = err_vals_corrected[i]\n",
    "    label = f'{total:.0f} corrected\\n({total/errors*100:.1f}% of detected errors)'\n",
    "    label = f'{total:.0f} corrected\\n({total/errors*100:.1f}% of detected errors)\\n({total/group_vals*100:.1f}% of values)' # adult \n",
    "    ax.text(ind[i], total + y_offset, label, ha='center', color='black',fontsize=14)\n",
    "\n",
    "# correctly corrected error labels\n",
    "y_offset = -700 # adult\n",
    "for i in np.arange(2):\n",
    "    n_group = (P==i).sum()\n",
    "    errors = err_vals[i]\n",
    "    corrected = err_vals_corrected[i]\n",
    "    total = err_vals_corrected_correctly[i]\n",
    "    # label = f'{total:.0f}\\n({total/errors*100:.1f}% of detected errors)\\n({total/corrected*100:.1f}% of corrected errors)'\n",
    "    label = f'{total:.0f} correct\\n({total/errors*100:.1f}% of detected errors)'\n",
    "    ax.text(ind[i], total + y_offset, label, ha='center',color='black',fontsize=14)\n",
    "\n",
    "ax.set_ylabel('Values')\n",
    "ax.set_title(f'{nice_dataset} Error Count by Protected Group')\n",
    "ax.set_xticks(ind, x_labels,fontsize=14)\n",
    "# ax.set_yticks(np.arange(0, 81, 10))\n",
    "ax.legend(labels=['detected errors', 'corrected errors', 'correct'])\n",
    "\n",
    "\n",
    "\n",
    "plt.show()"
   ]
  },
  {
   "cell_type": "code",
   "execution_count": null,
   "id": "3e266cbd-d649-4871-b10f-81d0c144860d",
   "metadata": {},
   "outputs": [],
   "source": []
  }
 ],
 "metadata": {
  "kernelspec": {
   "display_name": "Python 3 (ipykernel)",
   "language": "python",
   "name": "python3"
  },
  "language_info": {
   "codemirror_mode": {
    "name": "ipython",
    "version": 3
   },
   "file_extension": ".py",
   "mimetype": "text/x-python",
   "name": "python",
   "nbconvert_exporter": "python",
   "pygments_lexer": "ipython3",
   "version": "3.11.3"
  }
 },
 "nbformat": 4,
 "nbformat_minor": 5
}
