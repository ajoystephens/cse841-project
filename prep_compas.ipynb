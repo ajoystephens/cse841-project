{
 "cells": [
  {
   "cell_type": "code",
   "execution_count": 1,
   "id": "18bb74a5-dc7f-42e5-b661-6f71f67b743b",
   "metadata": {},
   "outputs": [],
   "source": [
    "# LIBRAIRES\n",
    "import numpy as np\n",
    "import pandas as pd\n",
    "import random\n",
    "import pickle\n",
    "\n",
    "import string\n",
    "\n",
    "from matplotlib import pyplot as plt "
   ]
  },
  {
   "cell_type": "code",
   "execution_count": 2,
   "id": "f23e90e7-4b83-47ef-9eb3-43e1d2e91b7a",
   "metadata": {},
   "outputs": [],
   "source": [
    "# METHODS\n",
    "def swap_vals(dirty_df, n):\n",
    "    mods = pd.DataFrame()\n",
    "    for i in range(n):\n",
    "        col_i = random.randint(0,dirty_df.shape[1]-1)\n",
    "        col = dirty_df.columns[col_i]\n",
    "        row_1 = random.randint(0,dirty_df.shape[0]-1)\n",
    "        row_2 = random.randint(0,dirty_df.shape[0]-1)\n",
    "        # val = dirty_df.iloc[row][col]\n",
    "        val_1 = dirty_df.iat[row_1,col_i]\n",
    "        val_2 = dirty_df.iat[row_2,col_i]\n",
    "    \n",
    "        dirty_df.iat[row_1,col_i] = val_2\n",
    "        dirty_df.iat[row_2,col_i] = val_1\n",
    "    \n",
    "        mod = {'col': col, 'row 1': row_1, 'val 1': val_1,'row 2': row_2,'val 2':val_2}\n",
    "        # mods = mods.append(mod, ignore_index = True)\n",
    "        mods = pd.concat([mods, pd.DataFrame([mod])], ignore_index=True)\n",
    "    return(dirty_df,mods)\n",
    "\n",
    "def rand_mod(dirty_df, n):\n",
    "    mods = pd.DataFrame()\n",
    "    for i in range(n):\n",
    "        col_i = random.randint(0,dirty_df.shape[1]-1)\n",
    "        col = dirty_df.columns[col_i]\n",
    "        row_1 = random.randint(0,dirty_df.shape[0]-1)\n",
    "        row_2 = random.randint(0,dirty_df.shape[0]-1)\n",
    "        # val = dirty_df.iloc[row][col]\n",
    "        val_1 = dirty_df.iat[row_1,col_i]\n",
    "        val_2 = dirty_df.iat[row_2,col_i]\n",
    "    \n",
    "        dirty_df.iat[row_1,col_i] = val_2\n",
    "        dirty_df.iat[row_2,col_i] = val_1\n",
    "    \n",
    "        mod = {'col': col, 'row 1': row_1, 'val 1': val_1,'row 2': row_2,'val 2':val_2}\n",
    "        # mods = mods.append(mod, ignore_index = True)\n",
    "        mods = pd.concat([mods, pd.DataFrame([mod])], ignore_index=True)\n",
    "\n",
    "    return(dirty_df,mods)"
   ]
  },
  {
   "cell_type": "code",
   "execution_count": 3,
   "id": "b81fd99c-64c5-49f2-a72d-31c323e1e8d4",
   "metadata": {},
   "outputs": [
    {
     "data": {
      "text/plain": [
       "(11757, 47)"
      ]
     },
     "execution_count": 3,
     "metadata": {},
     "output_type": "execute_result"
    }
   ],
   "source": [
    "# GET DATA\n",
    "df = pd.read_csv('datasets/compas/compas-scores.csv')\n",
    "df.shape"
   ]
  },
  {
   "cell_type": "code",
   "execution_count": 4,
   "id": "8056e8e2-dc4b-49ce-9e18-4198d77d6f90",
   "metadata": {},
   "outputs": [
    {
     "data": {
      "text/plain": [
       "id                                  int64\n",
       "name                               object\n",
       "first                              object\n",
       "last                               object\n",
       "compas_screening_date      datetime64[ns]\n",
       "sex                                object\n",
       "dob                                object\n",
       "age                                 int64\n",
       "age_cat                            object\n",
       "race                               object\n",
       "juv_fel_count                       int64\n",
       "decile_score                        int64\n",
       "juv_misd_count                      int64\n",
       "juv_other_count                     int64\n",
       "priors_count                        int64\n",
       "days_b_screening_arrest           float64\n",
       "c_jail_in                  datetime64[ns]\n",
       "c_jail_out                 datetime64[ns]\n",
       "c_case_number                      object\n",
       "c_offense_date             datetime64[ns]\n",
       "c_arrest_date              datetime64[ns]\n",
       "c_days_from_compas                float64\n",
       "c_charge_degree                    object\n",
       "c_charge_desc                      object\n",
       "is_recid                            int64\n",
       "num_r_cases                       float64\n",
       "r_case_number                      object\n",
       "r_charge_degree                    object\n",
       "r_days_from_arrest                float64\n",
       "r_offense_date             datetime64[ns]\n",
       "r_charge_desc                      object\n",
       "r_jail_in                          object\n",
       "r_jail_out                         object\n",
       "is_violent_recid                    int64\n",
       "num_vr_cases                      float64\n",
       "vr_case_number                     object\n",
       "vr_charge_degree                   object\n",
       "vr_offense_date            datetime64[ns]\n",
       "vr_charge_desc                     object\n",
       "v_type_of_assessment               object\n",
       "v_decile_score                      int64\n",
       "v_score_text                       object\n",
       "v_screening_date           datetime64[ns]\n",
       "type_of_assessment                 object\n",
       "decile_score.1                      int64\n",
       "score_text                         object\n",
       "screening_date                     object\n",
       "dtype: object"
      ]
     },
     "execution_count": 4,
     "metadata": {},
     "output_type": "execute_result"
    }
   ],
   "source": [
    "# CLEAN SOME DATATYPES\n",
    "df[\"compas_screening_date\"] = df[\"compas_screening_date\"].astype(\"datetime64[ns]\")\n",
    "df[\"c_jail_in\"] = df[\"c_jail_in\"].astype(\"datetime64[ns]\")\n",
    "df[\"c_jail_out\"] = df[\"c_jail_out\"].astype(\"datetime64[ns]\")\n",
    "df[\"c_offense_date\"] = df[\"c_offense_date\"].astype(\"datetime64[ns]\")\n",
    "df[\"r_offense_date\"] = df[\"r_offense_date\"].astype(\"datetime64[ns]\")\n",
    "df[\"c_arrest_date\"] = df[\"c_arrest_date\"].astype(\"datetime64[ns]\")\n",
    "df[\"vr_offense_date\"] = df[\"vr_offense_date\"].astype(\"datetime64[ns]\")\n",
    "df[\"v_screening_date\"] = df[\"v_screening_date\"].astype(\"datetime64[ns]\")\n",
    "\n",
    "df.dtypes"
   ]
  },
  {
   "cell_type": "code",
   "execution_count": 5,
   "id": "afa6481b-4f7d-4091-8bfa-f13daec2cc63",
   "metadata": {},
   "outputs": [
    {
     "name": "stdout",
     "output_type": "stream",
     "text": [
      "['Other' 'Caucasian' 'African-American' 'Hispanic' 'Asian'\n",
      " 'Native American']\n"
     ]
    }
   ],
   "source": [
    "print(df.race.unique())\n",
    "map = {\n",
    "    'Caucasian': 0,\n",
    "    'African-American': 1,\n",
    "    'Hispanic': 1,\n",
    "    'Asian': 1,\n",
    "    'Native American': 1,\n",
    "    'Other': 1\n",
    "}\n",
    "\n",
    "Y = df['is_recid'].values\n",
    "P_val = df['race'].values\n",
    "P = df['race'].map(map).values\n",
    "\n",
    "df = df.drop(columns=['is_recid']) # remove label"
   ]
  },
  {
   "cell_type": "code",
   "execution_count": 6,
   "id": "1e905154-ca63-43bb-87c3-c1c06cc9e16d",
   "metadata": {},
   "outputs": [],
   "source": [
    "df_dirty = df.copy()\n",
    "df_dirty,swap_mods=swap_vals(df_dirty, 1000)\n",
    "df_dirty,rand_mods=rand_mod(df_dirty, 5000)\n",
    "# mods"
   ]
  },
  {
   "cell_type": "code",
   "execution_count": 7,
   "id": "b5bb22e4-3820-4407-be44-eda56efe799f",
   "metadata": {},
   "outputs": [
    {
     "ename": "NameError",
     "evalue": "name 'fileObj' is not defined",
     "output_type": "error",
     "traceback": [
      "\u001b[0;31m---------------------------------------------------------------------------\u001b[0m",
      "\u001b[0;31mNameError\u001b[0m                                 Traceback (most recent call last)",
      "Cell \u001b[0;32mIn[7], line 8\u001b[0m\n\u001b[1;32m      6\u001b[0m file \u001b[38;5;241m=\u001b[39m \u001b[38;5;28mopen\u001b[39m(\u001b[38;5;124m'\u001b[39m\u001b[38;5;124mdatasets/compas/data.p\u001b[39m\u001b[38;5;124m'\u001b[39m, \u001b[38;5;124m'\u001b[39m\u001b[38;5;124mwb\u001b[39m\u001b[38;5;124m'\u001b[39m)\n\u001b[1;32m      7\u001b[0m pickle\u001b[38;5;241m.\u001b[39mdump(data_dict,file)\n\u001b[0;32m----> 8\u001b[0m \u001b[43mfileObj\u001b[49m\u001b[38;5;241m.\u001b[39mclose()\n\u001b[1;32m     10\u001b[0m df\u001b[38;5;241m.\u001b[39mto_csv(\u001b[38;5;124m\"\u001b[39m\u001b[38;5;124mdatasets/compas/clean.csv\u001b[39m\u001b[38;5;124m\"\u001b[39m, index\u001b[38;5;241m=\u001b[39m\u001b[38;5;28;01mFalse\u001b[39;00m)\n\u001b[1;32m     11\u001b[0m df_dirty\u001b[38;5;241m.\u001b[39mto_csv(\u001b[38;5;124m\"\u001b[39m\u001b[38;5;124mdatasets/compas/dirty.csv\u001b[39m\u001b[38;5;124m\"\u001b[39m, index\u001b[38;5;241m=\u001b[39m\u001b[38;5;28;01mFalse\u001b[39;00m)\n",
      "\u001b[0;31mNameError\u001b[0m: name 'fileObj' is not defined"
     ]
    }
   ],
   "source": [
    "data_dict = {\n",
    "    'Y':Y,\n",
    "    'P_val':P_val,\n",
    "    'P':P\n",
    "}\n",
    "file = open('datasets/compas/data.p', 'wb')\n",
    "pickle.dump(data_dict,file)\n",
    "fileObj.close()\n",
    "\n",
    "df.to_csv(\"datasets/compas/clean.csv\", index=False)\n",
    "df_dirty.to_csv(\"datasets/compas/dirty.csv\", index=False)"
   ]
  },
  {
   "cell_type": "code",
   "execution_count": null,
   "id": "55a34ce8-6311-4f5f-ac14-db3f89775e7a",
   "metadata": {},
   "outputs": [],
   "source": []
  },
  {
   "cell_type": "code",
   "execution_count": null,
   "id": "a1b4803a-4313-4e5c-a66b-baa3160412e9",
   "metadata": {},
   "outputs": [],
   "source": []
  }
 ],
 "metadata": {
  "kernelspec": {
   "display_name": "venv",
   "language": "python",
   "name": "venv"
  },
  "language_info": {
   "codemirror_mode": {
    "name": "ipython",
    "version": 3
   },
   "file_extension": ".py",
   "mimetype": "text/x-python",
   "name": "python",
   "nbconvert_exporter": "python",
   "pygments_lexer": "ipython3",
   "version": "3.11.3"
  }
 },
 "nbformat": 4,
 "nbformat_minor": 5
}
